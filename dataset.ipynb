{
 "cells": [
  {
   "cell_type": "markdown",
   "id": "1ff46769",
   "metadata": {},
   "source": [
    "## Imports"
   ]
  },
  {
   "cell_type": "code",
   "execution_count": 1,
   "id": "86023d4e",
   "metadata": {},
   "outputs": [
    {
     "name": "stderr",
     "output_type": "stream",
     "text": [
      "/home/paul/miniconda3/envs/uni/lib/python3.8/site-packages/tqdm/auto.py:21: TqdmWarning: IProgress not found. Please update jupyter and ipywidgets. See https://ipywidgets.readthedocs.io/en/stable/user_install.html\n",
      "  from .autonotebook import tqdm as notebook_tqdm\n"
     ]
    }
   ],
   "source": [
    "from typing import Literal\n",
    "from datasets import Dataset, DatasetDict, load_dataset\n",
    "import numpy as np\n",
    "import pandas as pd\n",
    "from pathlib import Path\n",
    "\n",
    "np.random.seed(10) # Make sure we always sample the same folks\n",
    "root = Path(\"\")\n",
    "dataset_dir = Path(\"Dataset\")"
   ]
  },
  {
   "cell_type": "markdown",
   "id": "4cf2d30c",
   "metadata": {},
   "source": [
    "## Download class"
   ]
  },
  {
   "cell_type": "code",
   "execution_count": 2,
   "id": "c1257b79",
   "metadata": {},
   "outputs": [],
   "source": [
    "\n",
    "class YambdaDataset:\n",
    "    INTERACTIONS = frozenset([\n",
    "        \"likes\", \"listens\", \"multi_event\", \"dislikes\", \"unlikes\", \"undislikes\"\n",
    "    ])\n",
    "\n",
    "    def __init__(\n",
    "        self,\n",
    "        dataset_type: Literal[\"flat\", \"sequential\"] = \"flat\",\n",
    "        dataset_size: Literal[\"50m\", \"500m\", \"5b\"] = \"50m\"\n",
    "    ):\n",
    "        assert dataset_type in {\"flat\", \"sequential\"}\n",
    "        assert dataset_size in {\"50m\", \"500m\", \"5b\"}\n",
    "        self.dataset_type = dataset_type\n",
    "        self.dataset_size = dataset_size\n",
    "\n",
    "    def interaction(self, event_type: Literal[\n",
    "        \"likes\", \"listens\", \"multi_event\", \"dislikes\", \"unlikes\", \"undislikes\"\n",
    "    ]) -> Dataset:\n",
    "        assert event_type in YambdaDataset.INTERACTIONS\n",
    "        return self._download(f\"{self.dataset_type}/{self.dataset_size}\", event_type)\n",
    "\n",
    "    def audio_embeddings(self) -> Dataset:\n",
    "        return self._download(\"\", \"embeddings\")\n",
    "\n",
    "    def album_item_mapping(self) -> Dataset:\n",
    "        return self._download(\"\", \"album_item_mapping\")\n",
    "\n",
    "    def artist_item_mapping(self) -> Dataset:\n",
    "        return self._download(\"\", \"artist_item_mapping\")\n",
    "\n",
    "\n",
    "    @staticmethod\n",
    "    def _download(data_dir: str, file: str) -> Dataset:\n",
    "        data = load_dataset(\"yandex/yambda\", data_dir=data_dir, data_files=f\"{file}.parquet\")\n",
    "        # Returns DatasetDict; extracting the only split\n",
    "        assert isinstance(data, DatasetDict)\n",
    "        return data[\"train\"]\n",
    "    \n",
    "dataset = YambdaDataset('flat', '50m')"
   ]
  },
  {
   "cell_type": "markdown",
   "id": "e3677651",
   "metadata": {},
   "source": [
    "## Download and write locally to CSV's"
   ]
  },
  {
   "cell_type": "code",
   "execution_count": 3,
   "id": "349e9382",
   "metadata": {},
   "outputs": [],
   "source": [
    "# Write files locally\n",
    "dataset_dir = root / \"Dataset\"\n",
    "dataset_dir.mkdir(exist_ok=True)\n",
    "\n",
    "if not (dataset_dir / \"listens.csv\").exists():\n",
    "    listens = dataset.interaction(\"listens\")\n",
    "    listens.to_pandas().to_csv(dataset_dir / \"listens.csv\")\n",
    "else:\n",
    "    listens = pd.read_csv(dataset_dir / \"listens.csv\")\n",
    "\n",
    "if not (dataset_dir / \"likes.csv\").exists():\n",
    "    likes = dataset.interaction(\"listens\")\n",
    "    likes.to_pandas().to_csv(dataset_dir / \"likes.csv\")\n",
    "\n",
    "if not (dataset_dir / \"dislikes.csv\").exists():\n",
    "    dislikes = dataset.interaction(\"dislikes\")\n",
    "    dislikes.to_pandas().to_csv(dataset_dir / \"dislikes.csv\")\n",
    "\n",
    "if not (dataset_dir / \"unlikes.csv\").exists():\n",
    "    unlikes = dataset.interaction(\"unlikes\")\n",
    "    unlikes.to_pandas().to_csv(dataset_dir / \"unlikes.csv\")\n",
    "\n",
    "if not (dataset_dir / \"undislikes.csv\").exists():\n",
    "    undislikes = dataset.interaction(\"undislikes\")\n",
    "    undislikes.to_pandas().to_csv(dataset_dir / \"undislikes.csv\")\n",
    "\n",
    "if not (dataset_dir / \"album_item_mapping.csv\").exists():\n",
    "    album_item_mapping = dataset.album_item_mapping()\n",
    "    album_item_mapping.to_pandas().to_csv(dataset_dir / \"album_item_mapping.csv\")\n",
    "\n",
    "if not (dataset_dir / \"artist_item_mapping.csv\").exists():\n",
    "    artist_item_mapping = dataset.artist_item_mapping()\n",
    "    artist_item_mapping.to_pandas().to_csv(dataset_dir / \"artist_item_mapping.csv\")\n",
    "\n",
    "if not (dataset_dir / \"embeddings.csv\").exists():\n",
    "    embeddings = dataset.audio_embeddings()\n",
    "    embeddings.to_pandas().to_csv(dataset_dir / \"embeddings.csv\")"
   ]
  },
  {
   "cell_type": "markdown",
   "id": "778de94b",
   "metadata": {},
   "source": [
    "## Create our tiny dataset"
   ]
  },
  {
   "cell_type": "code",
   "execution_count": 6,
   "id": "60725643",
   "metadata": {},
   "outputs": [],
   "source": [
    "users = np.random.choice(listens['uid'].unique(), size=2).tolist()\n",
    "\n",
    "df = listens.loc[listens['uid'].isin(users)]\n",
    "numbers = df['item_id'].unique()\n",
    "numbers\n",
    "\n",
    "df.to_csv(dataset_dir / \"listens_subset.csv\")"
   ]
  },
  {
   "cell_type": "code",
   "execution_count": null,
   "id": "e669222a",
   "metadata": {},
   "outputs": [
    {
     "ename": "ParserError",
     "evalue": "Error tokenizing data. C error: Calling read(nbytes) on source failed. Try engine='python'.",
     "output_type": "error",
     "traceback": [
      "\u001b[0;31m---------------------------------------------------------------------------\u001b[0m",
      "\u001b[0;31mParserError\u001b[0m                               Traceback (most recent call last)",
      "Cell \u001b[0;32mIn[5], line 1\u001b[0m\n\u001b[0;32m----> 1\u001b[0m test \u001b[38;5;241m=\u001b[39m \u001b[43mpd\u001b[49m\u001b[38;5;241;43m.\u001b[39;49m\u001b[43mread_csv\u001b[49m\u001b[43m(\u001b[49m\u001b[43mdataset_dir\u001b[49m\u001b[38;5;241;43m/\u001b[39;49m\u001b[43m \u001b[49m\u001b[38;5;124;43m\"\u001b[39;49m\u001b[38;5;124;43membeddings.csv\u001b[39;49m\u001b[38;5;124;43m\"\u001b[39;49m\u001b[43m)\u001b[49m\n",
      "File \u001b[0;32m~/miniconda3/envs/uni/lib/python3.8/site-packages/pandas/io/parsers/readers.py:912\u001b[0m, in \u001b[0;36mread_csv\u001b[0;34m(filepath_or_buffer, sep, delimiter, header, names, index_col, usecols, dtype, engine, converters, true_values, false_values, skipinitialspace, skiprows, skipfooter, nrows, na_values, keep_default_na, na_filter, verbose, skip_blank_lines, parse_dates, infer_datetime_format, keep_date_col, date_parser, date_format, dayfirst, cache_dates, iterator, chunksize, compression, thousands, decimal, lineterminator, quotechar, quoting, doublequote, escapechar, comment, encoding, encoding_errors, dialect, on_bad_lines, delim_whitespace, low_memory, memory_map, float_precision, storage_options, dtype_backend)\u001b[0m\n\u001b[1;32m    899\u001b[0m kwds_defaults \u001b[38;5;241m=\u001b[39m _refine_defaults_read(\n\u001b[1;32m    900\u001b[0m     dialect,\n\u001b[1;32m    901\u001b[0m     delimiter,\n\u001b[0;32m   (...)\u001b[0m\n\u001b[1;32m    908\u001b[0m     dtype_backend\u001b[38;5;241m=\u001b[39mdtype_backend,\n\u001b[1;32m    909\u001b[0m )\n\u001b[1;32m    910\u001b[0m kwds\u001b[38;5;241m.\u001b[39mupdate(kwds_defaults)\n\u001b[0;32m--> 912\u001b[0m \u001b[38;5;28;01mreturn\u001b[39;00m \u001b[43m_read\u001b[49m\u001b[43m(\u001b[49m\u001b[43mfilepath_or_buffer\u001b[49m\u001b[43m,\u001b[49m\u001b[43m \u001b[49m\u001b[43mkwds\u001b[49m\u001b[43m)\u001b[49m\n",
      "File \u001b[0;32m~/miniconda3/envs/uni/lib/python3.8/site-packages/pandas/io/parsers/readers.py:583\u001b[0m, in \u001b[0;36m_read\u001b[0;34m(filepath_or_buffer, kwds)\u001b[0m\n\u001b[1;32m    580\u001b[0m     \u001b[38;5;28;01mreturn\u001b[39;00m parser\n\u001b[1;32m    582\u001b[0m \u001b[38;5;28;01mwith\u001b[39;00m parser:\n\u001b[0;32m--> 583\u001b[0m     \u001b[38;5;28;01mreturn\u001b[39;00m \u001b[43mparser\u001b[49m\u001b[38;5;241;43m.\u001b[39;49m\u001b[43mread\u001b[49m\u001b[43m(\u001b[49m\u001b[43mnrows\u001b[49m\u001b[43m)\u001b[49m\n",
      "File \u001b[0;32m~/miniconda3/envs/uni/lib/python3.8/site-packages/pandas/io/parsers/readers.py:1704\u001b[0m, in \u001b[0;36mTextFileReader.read\u001b[0;34m(self, nrows)\u001b[0m\n\u001b[1;32m   1697\u001b[0m nrows \u001b[38;5;241m=\u001b[39m validate_integer(\u001b[38;5;124m\"\u001b[39m\u001b[38;5;124mnrows\u001b[39m\u001b[38;5;124m\"\u001b[39m, nrows)\n\u001b[1;32m   1698\u001b[0m \u001b[38;5;28;01mtry\u001b[39;00m:\n\u001b[1;32m   1699\u001b[0m     \u001b[38;5;66;03m# error: \"ParserBase\" has no attribute \"read\"\u001b[39;00m\n\u001b[1;32m   1700\u001b[0m     (\n\u001b[1;32m   1701\u001b[0m         index,\n\u001b[1;32m   1702\u001b[0m         columns,\n\u001b[1;32m   1703\u001b[0m         col_dict,\n\u001b[0;32m-> 1704\u001b[0m     ) \u001b[38;5;241m=\u001b[39m \u001b[38;5;28;43mself\u001b[39;49m\u001b[38;5;241;43m.\u001b[39;49m\u001b[43m_engine\u001b[49m\u001b[38;5;241;43m.\u001b[39;49m\u001b[43mread\u001b[49m\u001b[43m(\u001b[49m\u001b[43m  \u001b[49m\u001b[38;5;66;43;03m# type: ignore[attr-defined]\u001b[39;49;00m\n\u001b[1;32m   1705\u001b[0m \u001b[43m        \u001b[49m\u001b[43mnrows\u001b[49m\n\u001b[1;32m   1706\u001b[0m \u001b[43m    \u001b[49m\u001b[43m)\u001b[49m\n\u001b[1;32m   1707\u001b[0m \u001b[38;5;28;01mexcept\u001b[39;00m \u001b[38;5;167;01mException\u001b[39;00m:\n\u001b[1;32m   1708\u001b[0m     \u001b[38;5;28mself\u001b[39m\u001b[38;5;241m.\u001b[39mclose()\n",
      "File \u001b[0;32m~/miniconda3/envs/uni/lib/python3.8/site-packages/pandas/io/parsers/c_parser_wrapper.py:234\u001b[0m, in \u001b[0;36mCParserWrapper.read\u001b[0;34m(self, nrows)\u001b[0m\n\u001b[1;32m    232\u001b[0m \u001b[38;5;28;01mtry\u001b[39;00m:\n\u001b[1;32m    233\u001b[0m     \u001b[38;5;28;01mif\u001b[39;00m \u001b[38;5;28mself\u001b[39m\u001b[38;5;241m.\u001b[39mlow_memory:\n\u001b[0;32m--> 234\u001b[0m         chunks \u001b[38;5;241m=\u001b[39m \u001b[38;5;28;43mself\u001b[39;49m\u001b[38;5;241;43m.\u001b[39;49m\u001b[43m_reader\u001b[49m\u001b[38;5;241;43m.\u001b[39;49m\u001b[43mread_low_memory\u001b[49m\u001b[43m(\u001b[49m\u001b[43mnrows\u001b[49m\u001b[43m)\u001b[49m\n\u001b[1;32m    235\u001b[0m         \u001b[38;5;66;03m# destructive to chunks\u001b[39;00m\n\u001b[1;32m    236\u001b[0m         data \u001b[38;5;241m=\u001b[39m _concatenate_chunks(chunks)\n",
      "File \u001b[0;32m~/miniconda3/envs/uni/lib/python3.8/site-packages/pandas/_libs/parsers.pyx:814\u001b[0m, in \u001b[0;36mpandas._libs.parsers.TextReader.read_low_memory\u001b[0;34m()\u001b[0m\n",
      "File \u001b[0;32m~/miniconda3/envs/uni/lib/python3.8/site-packages/pandas/_libs/parsers.pyx:875\u001b[0m, in \u001b[0;36mpandas._libs.parsers.TextReader._read_rows\u001b[0;34m()\u001b[0m\n",
      "File \u001b[0;32m~/miniconda3/envs/uni/lib/python3.8/site-packages/pandas/_libs/parsers.pyx:850\u001b[0m, in \u001b[0;36mpandas._libs.parsers.TextReader._tokenize_rows\u001b[0;34m()\u001b[0m\n",
      "File \u001b[0;32m~/miniconda3/envs/uni/lib/python3.8/site-packages/pandas/_libs/parsers.pyx:861\u001b[0m, in \u001b[0;36mpandas._libs.parsers.TextReader._check_tokenize_status\u001b[0;34m()\u001b[0m\n",
      "File \u001b[0;32m~/miniconda3/envs/uni/lib/python3.8/site-packages/pandas/_libs/parsers.pyx:2029\u001b[0m, in \u001b[0;36mpandas._libs.parsers.raise_parser_error\u001b[0;34m()\u001b[0m\n",
      "\u001b[0;31mParserError\u001b[0m: Error tokenizing data. C error: Calling read(nbytes) on source failed. Try engine='python'."
     ]
    }
   ],
   "source": [
    "#test = pd.read_csv(dataset_dir/ \"embeddings.csv\") Too big lol."
   ]
  }
 ],
 "metadata": {
  "kernelspec": {
   "display_name": "uni",
   "language": "python",
   "name": "python3"
  },
  "language_info": {
   "codemirror_mode": {
    "name": "ipython",
    "version": 3
   },
   "file_extension": ".py",
   "mimetype": "text/x-python",
   "name": "python",
   "nbconvert_exporter": "python",
   "pygments_lexer": "ipython3",
   "version": "3.8.20"
  }
 },
 "nbformat": 4,
 "nbformat_minor": 5
}
